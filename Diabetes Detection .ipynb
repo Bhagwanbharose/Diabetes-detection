{
 "cells": [
  {
   "cell_type": "code",
   "execution_count": 31,
   "metadata": {},
   "outputs": [],
   "source": [
    "#Import all necessary packages\n",
    "import numpy as np\n",
    "import pandas as pd\n",
    "import matplotlib.pyplot as plt\n",
    "import seaborn as sns\n",
    "import warnings\n",
    "warnings.filterwarnings('ignore')\n",
    "%matplotlib inline"
   ]
  },
  {
   "cell_type": "code",
   "execution_count": 32,
   "metadata": {},
   "outputs": [],
   "source": [
    "#Import the Dataset\n",
    "dataset = pd.read_csv('Diabetes Dataset.csv')"
   ]
  },
  {
   "cell_type": "markdown",
   "metadata": {},
   "source": [
    "### Column Analysis:"
   ]
  },
  {
   "cell_type": "code",
   "execution_count": 33,
   "metadata": {
    "scrolled": true
   },
   "outputs": [
    {
     "data": {
      "text/html": [
       "<div>\n",
       "<style scoped>\n",
       "    .dataframe tbody tr th:only-of-type {\n",
       "        vertical-align: middle;\n",
       "    }\n",
       "\n",
       "    .dataframe tbody tr th {\n",
       "        vertical-align: top;\n",
       "    }\n",
       "\n",
       "    .dataframe thead th {\n",
       "        text-align: right;\n",
       "    }\n",
       "</style>\n",
       "<table border=\"1\" class=\"dataframe\">\n",
       "  <thead>\n",
       "    <tr style=\"text-align: right;\">\n",
       "      <th></th>\n",
       "      <th>Pregnancies</th>\n",
       "      <th>Glucose</th>\n",
       "      <th>BloodPressure</th>\n",
       "      <th>SkinThickness</th>\n",
       "      <th>Insulin</th>\n",
       "      <th>BMI</th>\n",
       "      <th>DiabetesPedigreeFunction</th>\n",
       "      <th>Age</th>\n",
       "      <th>Outcome</th>\n",
       "    </tr>\n",
       "  </thead>\n",
       "  <tbody>\n",
       "    <tr>\n",
       "      <th>0</th>\n",
       "      <td>6</td>\n",
       "      <td>148.0</td>\n",
       "      <td>72.0</td>\n",
       "      <td>35.0</td>\n",
       "      <td>0</td>\n",
       "      <td>33.6</td>\n",
       "      <td>0.627</td>\n",
       "      <td>50</td>\n",
       "      <td>1</td>\n",
       "    </tr>\n",
       "    <tr>\n",
       "      <th>1</th>\n",
       "      <td>1</td>\n",
       "      <td>85.0</td>\n",
       "      <td>66.0</td>\n",
       "      <td>29.0</td>\n",
       "      <td>0</td>\n",
       "      <td>26.6</td>\n",
       "      <td>0.351</td>\n",
       "      <td>31</td>\n",
       "      <td>0</td>\n",
       "    </tr>\n",
       "    <tr>\n",
       "      <th>2</th>\n",
       "      <td>8</td>\n",
       "      <td>183.0</td>\n",
       "      <td>64.0</td>\n",
       "      <td>0.0</td>\n",
       "      <td>0</td>\n",
       "      <td>23.3</td>\n",
       "      <td>0.672</td>\n",
       "      <td>32</td>\n",
       "      <td>1</td>\n",
       "    </tr>\n",
       "    <tr>\n",
       "      <th>3</th>\n",
       "      <td>1</td>\n",
       "      <td>89.0</td>\n",
       "      <td>66.0</td>\n",
       "      <td>23.0</td>\n",
       "      <td>94</td>\n",
       "      <td>28.1</td>\n",
       "      <td>0.167</td>\n",
       "      <td>21</td>\n",
       "      <td>0</td>\n",
       "    </tr>\n",
       "    <tr>\n",
       "      <th>4</th>\n",
       "      <td>0</td>\n",
       "      <td>137.0</td>\n",
       "      <td>40.0</td>\n",
       "      <td>35.0</td>\n",
       "      <td>168</td>\n",
       "      <td>NaN</td>\n",
       "      <td>2.288</td>\n",
       "      <td>33</td>\n",
       "      <td>1</td>\n",
       "    </tr>\n",
       "  </tbody>\n",
       "</table>\n",
       "</div>"
      ],
      "text/plain": [
       "   Pregnancies  Glucose  BloodPressure  SkinThickness  Insulin   BMI  \\\n",
       "0            6    148.0           72.0           35.0        0  33.6   \n",
       "1            1     85.0           66.0           29.0        0  26.6   \n",
       "2            8    183.0           64.0            0.0        0  23.3   \n",
       "3            1     89.0           66.0           23.0       94  28.1   \n",
       "4            0    137.0           40.0           35.0      168   NaN   \n",
       "\n",
       "   DiabetesPedigreeFunction  Age  Outcome  \n",
       "0                     0.627   50        1  \n",
       "1                     0.351   31        0  \n",
       "2                     0.672   32        1  \n",
       "3                     0.167   21        0  \n",
       "4                     2.288   33        1  "
      ]
     },
     "execution_count": 33,
     "metadata": {},
     "output_type": "execute_result"
    }
   ],
   "source": [
    "dataset.head()"
   ]
  },
  {
   "cell_type": "code",
   "execution_count": 34,
   "metadata": {
    "scrolled": true
   },
   "outputs": [
    {
     "name": "stdout",
     "output_type": "stream",
     "text": [
      "<class 'pandas.core.frame.DataFrame'>\n",
      "RangeIndex: 768 entries, 0 to 767\n",
      "Data columns (total 9 columns):\n",
      "Pregnancies                 768 non-null int64\n",
      "Glucose                     764 non-null float64\n",
      "BloodPressure               765 non-null float64\n",
      "SkinThickness               766 non-null float64\n",
      "Insulin                     768 non-null int64\n",
      "BMI                         767 non-null float64\n",
      "DiabetesPedigreeFunction    764 non-null float64\n",
      "Age                         768 non-null int64\n",
      "Outcome                     768 non-null int64\n",
      "dtypes: float64(5), int64(4)\n",
      "memory usage: 54.1 KB\n"
     ]
    }
   ],
   "source": [
    "dataset.info()"
   ]
  },
  {
   "cell_type": "code",
   "execution_count": 35,
   "metadata": {},
   "outputs": [],
   "source": [
    "# Column Analysis\n",
    "\n",
    "# Pregnancies               int64   -------> No Missing values       -------->  Numeric Data\n",
    "# Glucose                   float64 -------> We have Missing values  -------->  Numeric Data\n",
    "# BloodPressure             float64 -------> We have Missing values  -------->  Numeric Data\n",
    "# SkinThickness             float64 -------> We have Missing values  -------->  Numeric Data\n",
    "# Insulin                   int64   -------> No Missing values       -------->  Numeric Data\n",
    "# BMI                       float64 -------> We have Missing values  -------->  Numeric Data\n",
    "# DiabetesPedigreeFunction  float64 -------> We have Missing values  -------->  Numeric Data\n",
    "# Age                       float64 -------> We have Missing values  -------->  Numeric Data\n",
    "# Outcome                   int64   -------> No Missing values       -------->  Non Numeric Data"
   ]
  },
  {
   "cell_type": "markdown",
   "metadata": {},
   "source": [
    "### Statistical Summary:"
   ]
  },
  {
   "cell_type": "code",
   "execution_count": 36,
   "metadata": {},
   "outputs": [
    {
     "data": {
      "text/html": [
       "<div>\n",
       "<style scoped>\n",
       "    .dataframe tbody tr th:only-of-type {\n",
       "        vertical-align: middle;\n",
       "    }\n",
       "\n",
       "    .dataframe tbody tr th {\n",
       "        vertical-align: top;\n",
       "    }\n",
       "\n",
       "    .dataframe thead th {\n",
       "        text-align: right;\n",
       "    }\n",
       "</style>\n",
       "<table border=\"1\" class=\"dataframe\">\n",
       "  <thead>\n",
       "    <tr style=\"text-align: right;\">\n",
       "      <th></th>\n",
       "      <th>Pregnancies</th>\n",
       "      <th>Glucose</th>\n",
       "      <th>BloodPressure</th>\n",
       "      <th>SkinThickness</th>\n",
       "      <th>Insulin</th>\n",
       "      <th>BMI</th>\n",
       "      <th>DiabetesPedigreeFunction</th>\n",
       "      <th>Age</th>\n",
       "      <th>Outcome</th>\n",
       "    </tr>\n",
       "  </thead>\n",
       "  <tbody>\n",
       "    <tr>\n",
       "      <th>count</th>\n",
       "      <td>768.000000</td>\n",
       "      <td>764.000000</td>\n",
       "      <td>765.000000</td>\n",
       "      <td>766.000000</td>\n",
       "      <td>768.000000</td>\n",
       "      <td>767.000000</td>\n",
       "      <td>764.000000</td>\n",
       "      <td>768.000000</td>\n",
       "      <td>768.000000</td>\n",
       "    </tr>\n",
       "    <tr>\n",
       "      <th>mean</th>\n",
       "      <td>3.845052</td>\n",
       "      <td>120.844241</td>\n",
       "      <td>69.104575</td>\n",
       "      <td>20.498695</td>\n",
       "      <td>79.799479</td>\n",
       "      <td>31.978096</td>\n",
       "      <td>0.471899</td>\n",
       "      <td>33.240885</td>\n",
       "      <td>0.348958</td>\n",
       "    </tr>\n",
       "    <tr>\n",
       "      <th>std</th>\n",
       "      <td>3.369578</td>\n",
       "      <td>31.924068</td>\n",
       "      <td>19.369365</td>\n",
       "      <td>15.951868</td>\n",
       "      <td>115.244002</td>\n",
       "      <td>7.879077</td>\n",
       "      <td>0.332040</td>\n",
       "      <td>11.760232</td>\n",
       "      <td>0.476951</td>\n",
       "    </tr>\n",
       "    <tr>\n",
       "      <th>min</th>\n",
       "      <td>0.000000</td>\n",
       "      <td>0.000000</td>\n",
       "      <td>0.000000</td>\n",
       "      <td>0.000000</td>\n",
       "      <td>0.000000</td>\n",
       "      <td>0.000000</td>\n",
       "      <td>0.078000</td>\n",
       "      <td>21.000000</td>\n",
       "      <td>0.000000</td>\n",
       "    </tr>\n",
       "    <tr>\n",
       "      <th>25%</th>\n",
       "      <td>1.000000</td>\n",
       "      <td>99.000000</td>\n",
       "      <td>62.000000</td>\n",
       "      <td>0.000000</td>\n",
       "      <td>0.000000</td>\n",
       "      <td>27.300000</td>\n",
       "      <td>0.242500</td>\n",
       "      <td>24.000000</td>\n",
       "      <td>0.000000</td>\n",
       "    </tr>\n",
       "    <tr>\n",
       "      <th>50%</th>\n",
       "      <td>3.000000</td>\n",
       "      <td>117.000000</td>\n",
       "      <td>72.000000</td>\n",
       "      <td>23.000000</td>\n",
       "      <td>30.500000</td>\n",
       "      <td>32.000000</td>\n",
       "      <td>0.372500</td>\n",
       "      <td>29.000000</td>\n",
       "      <td>0.000000</td>\n",
       "    </tr>\n",
       "    <tr>\n",
       "      <th>75%</th>\n",
       "      <td>6.000000</td>\n",
       "      <td>140.250000</td>\n",
       "      <td>80.000000</td>\n",
       "      <td>32.000000</td>\n",
       "      <td>127.250000</td>\n",
       "      <td>36.550000</td>\n",
       "      <td>0.626250</td>\n",
       "      <td>41.000000</td>\n",
       "      <td>1.000000</td>\n",
       "    </tr>\n",
       "    <tr>\n",
       "      <th>max</th>\n",
       "      <td>17.000000</td>\n",
       "      <td>199.000000</td>\n",
       "      <td>122.000000</td>\n",
       "      <td>99.000000</td>\n",
       "      <td>846.000000</td>\n",
       "      <td>67.100000</td>\n",
       "      <td>2.420000</td>\n",
       "      <td>81.000000</td>\n",
       "      <td>1.000000</td>\n",
       "    </tr>\n",
       "  </tbody>\n",
       "</table>\n",
       "</div>"
      ],
      "text/plain": [
       "       Pregnancies     Glucose  BloodPressure  SkinThickness     Insulin  \\\n",
       "count   768.000000  764.000000     765.000000     766.000000  768.000000   \n",
       "mean      3.845052  120.844241      69.104575      20.498695   79.799479   \n",
       "std       3.369578   31.924068      19.369365      15.951868  115.244002   \n",
       "min       0.000000    0.000000       0.000000       0.000000    0.000000   \n",
       "25%       1.000000   99.000000      62.000000       0.000000    0.000000   \n",
       "50%       3.000000  117.000000      72.000000      23.000000   30.500000   \n",
       "75%       6.000000  140.250000      80.000000      32.000000  127.250000   \n",
       "max      17.000000  199.000000     122.000000      99.000000  846.000000   \n",
       "\n",
       "              BMI  DiabetesPedigreeFunction         Age     Outcome  \n",
       "count  767.000000                764.000000  768.000000  768.000000  \n",
       "mean    31.978096                  0.471899   33.240885    0.348958  \n",
       "std      7.879077                  0.332040   11.760232    0.476951  \n",
       "min      0.000000                  0.078000   21.000000    0.000000  \n",
       "25%     27.300000                  0.242500   24.000000    0.000000  \n",
       "50%     32.000000                  0.372500   29.000000    0.000000  \n",
       "75%     36.550000                  0.626250   41.000000    1.000000  \n",
       "max     67.100000                  2.420000   81.000000    1.000000  "
      ]
     },
     "execution_count": 36,
     "metadata": {},
     "output_type": "execute_result"
    }
   ],
   "source": [
    "dataset.describe()"
   ]
  },
  {
   "cell_type": "markdown",
   "metadata": {},
   "source": [
    "## Handling Missing Values:"
   ]
  },
  {
   "cell_type": "markdown",
   "metadata": {},
   "source": [
    "###         Handling missing data is important as many machine learning algorithms do not support data with missing values. So in order to the deal with the  missing values we can replce them mean , mediam or mode of the data of respective columns.\n",
    "\n",
    "### 1. If the Data associated with column is Continuous then use mean to replace the Missing values, if there are any.\n",
    "### 2. If the Data associated with column is Discrete then use Mode to replace the Missing values, if there are any."
   ]
  },
  {
   "cell_type": "code",
   "execution_count": 37,
   "metadata": {},
   "outputs": [],
   "source": [
    "dataset['Glucose'].fillna(dataset['Glucose'].mean(),inplace=True)\n",
    "dataset['BloodPressure'].fillna(dataset['BloodPressure'].mean(),inplace=True)\n",
    "dataset['SkinThickness'].fillna(dataset['SkinThickness'].mean(),inplace=True)\n",
    "dataset['Insulin'].fillna(dataset['Insulin'].mean(),inplace=True)\n",
    "dataset['BMI'].fillna(dataset['BMI'].mean(),inplace=True)\n",
    "dataset['DiabetesPedigreeFunction'].fillna(dataset['DiabetesPedigreeFunction'].mean(),inplace=True)\n",
    "dataset['Age'].fillna(dataset['Age'].mean(),inplace=True)"
   ]
  },
  {
   "cell_type": "markdown",
   "metadata": {},
   "source": [
    "## Outlier Detection:"
   ]
  },
  {
   "cell_type": "code",
   "execution_count": null,
   "metadata": {},
   "outputs": [],
   "source": []
  },
  {
   "cell_type": "code",
   "execution_count": 38,
   "metadata": {},
   "outputs": [],
   "source": [
    "#Function that can detect outlier\n",
    "def outlierDetection(datacolumn):\n",
    "    #Sort in Ascending\n",
    "    sorted(datacolumn)\n",
    "    #Get Q3 and Q1\n",
    "    Q1,Q3 = np.percentile(datacolumn, [25,75])\n",
    "    #Calc IQR\n",
    "    IQR = Q3 - Q1\n",
    "    #Calc lowerRange\n",
    "    lowerRange = Q1 - (1.5 * IQR)\n",
    "    #Calc upperRange\n",
    "    upperRange = Q3 + (1.5 * IQR)\n",
    "    #Return Ranges\n",
    "    return lowerRange,upperRange"
   ]
  },
  {
   "cell_type": "code",
   "execution_count": 39,
   "metadata": {},
   "outputs": [
    {
     "name": "stdout",
     "output_type": "stream",
     "text": [
      "AxesSubplot(0.125,0.125;0.775x0.755)\n"
     ]
    },
    {
     "data": {
      "image/png": "[encoded data removed]",
      "text/plain": [
       "<Figure size 432x288 with 1 Axes>"
      ]
     },
     "metadata": {
      "needs_background": "light"
     },
     "output_type": "display_data"
    }
   ],
   "source": [
    "#Detecting Outlier by plotting Distribution Plot.\n",
    "print(sns.distplot(dataset['Pregnancies']))"
   ]
  },
  {
   "cell_type": "code",
   "execution_count": 40,
   "metadata": {
    "scrolled": true
   },
   "outputs": [
    {
     "name": "stdout",
     "output_type": "stream",
     "text": [
      "AxesSubplot(0.125,0.125;0.775x0.755)\n"
     ]
    },
    {
     "data": {
      "image/png": "[encoded data removed]",
      "text/plain": [
       "<Figure size 432x288 with 1 Axes>"
      ]
     },
     "metadata": {
      "needs_background": "light"
     },
     "output_type": "display_data"
    }
   ],
   "source": [
    "#Detecting Outlier by plotting Distribution Plot.\n",
    "print(sns.distplot(dataset['Glucose']))\n",
    "#Outlier Detected in attribute Glucose. "
   ]
  },
  {
   "cell_type": "code",
   "execution_count": 41,
   "metadata": {},
   "outputs": [
    {
     "data": {
      "text/plain": [
       "<matplotlib.axes._subplots.AxesSubplot at 0x897838f470>"
      ]
     },
     "execution_count": 41,
     "metadata": {},
     "output_type": "execute_result"
    },
    {
     "data": {
      "image/png": "[encoded data removed]",
      "text/plain": [
       "<Figure size 432x288 with 1 Axes>"
      ]
     },
     "metadata": {
      "needs_background": "light"
     },
     "output_type": "display_data"
    }
   ],
   "source": [
    "#Procedre for handling Outlier.\n",
    "lr,ur = outlierDetection(dataset['Glucose'])\n",
    "dataset.drop(dataset[(dataset['Glucose'] > ur) | (dataset['Glucose'] < lr)].index , inplace=True )\n",
    "sns.distplot(dataset['Glucose'])"
   ]
  },
  {
   "cell_type": "code",
   "execution_count": 42,
   "metadata": {},
   "outputs": [
    {
     "name": "stdout",
     "output_type": "stream",
     "text": [
      "AxesSubplot(0.125,0.125;0.775x0.755)\n"
     ]
    },
    {
     "data": {
      "image/png": "[encoded data removed]",
      "text/plain": [
       "<Figure size 432x288 with 1 Axes>"
      ]
     },
     "metadata": {
      "needs_background": "light"
     },
     "output_type": "display_data"
    }
   ],
   "source": [
    "#Detecting Outlier by plotting Distribution Plot.\n",
    "print(sns.distplot(dataset['BloodPressure']))\n",
    "#Outlier Detected in attribute BloodPressure. "
   ]
  },
  {
   "cell_type": "code",
   "execution_count": 43,
   "metadata": {},
   "outputs": [
    {
     "data": {
      "text/plain": [
       "<matplotlib.axes._subplots.AxesSubplot at 0x8978255e80>"
      ]
     },
     "execution_count": 43,
     "metadata": {},
     "output_type": "execute_result"
    },
    {
     "data": {
      "image/png": "[encoded data removed]",
      "text/plain": [
       "<Figure size 432x288 with 1 Axes>"
      ]
     },
     "metadata": {
      "needs_background": "light"
     },
     "output_type": "display_data"
    }
   ],
   "source": [
    "#Procedre for handling Outlier.\n",
    "lr,ur = outlierDetection(dataset['BloodPressure'])\n",
    "dataset.drop(dataset[(dataset['BloodPressure'] > ur) | (dataset['BloodPressure'] < lr)].index , inplace=True )\n",
    "sns.distplot(dataset['BloodPressure'])"
   ]
  },
  {
   "cell_type": "code",
   "execution_count": 44,
   "metadata": {},
   "outputs": [
    {
     "name": "stdout",
     "output_type": "stream",
     "text": [
      "AxesSubplot(0.125,0.125;0.775x0.755)\n"
     ]
    },
    {
     "data": {
      "image/png": "[encoded data removed]",
      "text/plain": [
       "<Figure size 432x288 with 1 Axes>"
      ]
     },
     "metadata": {
      "needs_background": "light"
     },
     "output_type": "display_data"
    }
   ],
   "source": [
    "#Detecting Outlier by plotting Distribution Plot.\n",
    "print(sns.distplot(dataset['SkinThickness']))"
   ]
  },
  {
   "cell_type": "code",
   "execution_count": 45,
   "metadata": {},
   "outputs": [
    {
     "name": "stdout",
     "output_type": "stream",
     "text": [
      "AxesSubplot(0.125,0.125;0.775x0.755)\n"
     ]
    },
    {
     "data": {
      "image/png": "[encoded data removed]",
      "text/plain": [
       "<Figure size 432x288 with 1 Axes>"
      ]
     },
     "metadata": {
      "needs_background": "light"
     },
     "output_type": "display_data"
    }
   ],
   "source": [
    "#Detecting Outlier by plotting Distribution Plot.\n",
    "print(sns.distplot(dataset['Insulin']))"
   ]
  },
  {
   "cell_type": "code",
   "execution_count": 46,
   "metadata": {},
   "outputs": [
    {
     "name": "stdout",
     "output_type": "stream",
     "text": [
      "AxesSubplot(0.125,0.125;0.775x0.755)\n"
     ]
    },
    {
     "data": {
      "image/png": "[encoded data removed]",
      "text/plain": [
       "<Figure size 432x288 with 1 Axes>"
      ]
     },
     "metadata": {
      "needs_background": "light"
     },
     "output_type": "display_data"
    }
   ],
   "source": [
    "#Detecting Outlier by plotting Distribution Plot.\n",
    "print(sns.distplot(dataset['BMI']))\n",
    "#Outlier Detected in attribute BMI. "
   ]
  },
  {
   "cell_type": "code",
   "execution_count": 47,
   "metadata": {},
   "outputs": [
    {
     "data": {
      "text/plain": [
       "<matplotlib.axes._subplots.AxesSubplot at 0x897892b550>"
      ]
     },
     "execution_count": 47,
     "metadata": {},
     "output_type": "execute_result"
    },
    {
     "data": {
      "image/png": "[encoded data removed]",
      "text/plain": [
       "<Figure size 432x288 with 1 Axes>"
      ]
     },
     "metadata": {
      "needs_background": "light"
     },
     "output_type": "display_data"
    }
   ],
   "source": [
    "#Procedre for handling Outlier.\n",
    "lr,ur = outlierDetection(dataset['BMI'])\n",
    "dataset.drop(dataset[(dataset['BMI'] > ur) | (dataset['BMI'] < lr)].index , inplace=True )\n",
    "sns.distplot(dataset['BMI'])"
   ]
  },
  {
   "cell_type": "code",
   "execution_count": 48,
   "metadata": {},
   "outputs": [
    {
     "name": "stdout",
     "output_type": "stream",
     "text": [
      "AxesSubplot(0.125,0.125;0.775x0.755)\n"
     ]
    },
    {
     "data": {
      "image/png": "[encoded data removed]",
      "text/plain": [
       "<Figure size 432x288 with 1 Axes>"
      ]
     },
     "metadata": {
      "needs_background": "light"
     },
     "output_type": "display_data"
    }
   ],
   "source": [
    "#Detecting Outlier by plotting Distribution Plot.\n",
    "print(sns.distplot(dataset['DiabetesPedigreeFunction']))"
   ]
  },
  {
   "cell_type": "code",
   "execution_count": 49,
   "metadata": {},
   "outputs": [
    {
     "name": "stdout",
     "output_type": "stream",
     "text": [
      "AxesSubplot(0.125,0.125;0.775x0.755)\n"
     ]
    },
    {
     "data": {
      "image/png": "[encoded data removed]",
      "text/plain": [
       "<Figure size 432x288 with 1 Axes>"
      ]
     },
     "metadata": {
      "needs_background": "light"
     },
     "output_type": "display_data"
    }
   ],
   "source": [
    "#Detecting Outlier by plotting Distribution Plot.\n",
    "print(sns.distplot(dataset['Age']))"
   ]
  },
  {
   "cell_type": "markdown",
   "metadata": {},
   "source": [
    "### Data Transformation uisng Log Transformation:"
   ]
  },
  {
   "cell_type": "code",
   "execution_count": 50,
   "metadata": {},
   "outputs": [
    {
     "data": {
      "text/plain": [
       "<matplotlib.axes._subplots.AxesSubplot at 0x8979c45c88>"
      ]
     },
     "execution_count": 50,
     "metadata": {},
     "output_type": "execute_result"
    },
    {
     "data": {
      "image/png": "[encoded data removed]",
      "text/plain": [
       "<Figure size 432x288 with 1 Axes>"
      ]
     },
     "metadata": {
      "needs_background": "light"
     },
     "output_type": "display_data"
    }
   ],
   "source": [
    "#Normalizing the Attribute Age using Log Tranformation.\n",
    "sns.distplot(np.log(dataset['Age']))"
   ]
  },
  {
   "cell_type": "code",
   "execution_count": 51,
   "metadata": {},
   "outputs": [
    {
     "data": {
      "text/plain": [
       "<matplotlib.axes._subplots.AxesSubplot at 0x897890c940>"
      ]
     },
     "execution_count": 51,
     "metadata": {},
     "output_type": "execute_result"
    },
    {
     "data": {
      "image/png": "[encoded data removed]",
      "text/plain": [
       "<Figure size 432x288 with 1 Axes>"
      ]
     },
     "metadata": {
      "needs_background": "light"
     },
     "output_type": "display_data"
    }
   ],
   "source": [
    "#Normalizing the Attribute Diabetes Pedigree Function using Log Tranformation.\n",
    "sns.distplot(np.log(dataset['DiabetesPedigreeFunction']))"
   ]
  },
  {
   "cell_type": "markdown",
   "metadata": {},
   "source": [
    "### Co-relation Analysis:"
   ]
  },
  {
   "cell_type": "code",
   "execution_count": 52,
   "metadata": {},
   "outputs": [
    {
     "data": {
      "text/html": [
       "<div>\n",
       "<style scoped>\n",
       "    .dataframe tbody tr th:only-of-type {\n",
       "        vertical-align: middle;\n",
       "    }\n",
       "\n",
       "    .dataframe tbody tr th {\n",
       "        vertical-align: top;\n",
       "    }\n",
       "\n",
       "    .dataframe thead th {\n",
       "        text-align: right;\n",
       "    }\n",
       "</style>\n",
       "<table border=\"1\" class=\"dataframe\">\n",
       "  <thead>\n",
       "    <tr style=\"text-align: right;\">\n",
       "      <th></th>\n",
       "      <th>Pregnancies</th>\n",
       "      <th>Glucose</th>\n",
       "      <th>BloodPressure</th>\n",
       "      <th>SkinThickness</th>\n",
       "      <th>Insulin</th>\n",
       "      <th>BMI</th>\n",
       "      <th>DiabetesPedigreeFunction</th>\n",
       "      <th>Age</th>\n",
       "      <th>Outcome</th>\n",
       "    </tr>\n",
       "  </thead>\n",
       "  <tbody>\n",
       "    <tr>\n",
       "      <th>Pregnancies</th>\n",
       "      <td>1.000000</td>\n",
       "      <td>0.140494</td>\n",
       "      <td>0.189436</td>\n",
       "      <td>-0.082984</td>\n",
       "      <td>-0.073604</td>\n",
       "      <td>0.024642</td>\n",
       "      <td>-0.010638</td>\n",
       "      <td>0.550869</td>\n",
       "      <td>0.227676</td>\n",
       "    </tr>\n",
       "    <tr>\n",
       "      <th>Glucose</th>\n",
       "      <td>0.140494</td>\n",
       "      <td>1.000000</td>\n",
       "      <td>0.211263</td>\n",
       "      <td>0.056984</td>\n",
       "      <td>0.327247</td>\n",
       "      <td>0.218335</td>\n",
       "      <td>0.126096</td>\n",
       "      <td>0.266343</td>\n",
       "      <td>0.486152</td>\n",
       "    </tr>\n",
       "    <tr>\n",
       "      <th>BloodPressure</th>\n",
       "      <td>0.189436</td>\n",
       "      <td>0.211263</td>\n",
       "      <td>1.000000</td>\n",
       "      <td>0.020679</td>\n",
       "      <td>-0.064466</td>\n",
       "      <td>0.277966</td>\n",
       "      <td>0.008951</td>\n",
       "      <td>0.329594</td>\n",
       "      <td>0.169150</td>\n",
       "    </tr>\n",
       "    <tr>\n",
       "      <th>SkinThickness</th>\n",
       "      <td>-0.082984</td>\n",
       "      <td>0.056984</td>\n",
       "      <td>0.020679</td>\n",
       "      <td>1.000000</td>\n",
       "      <td>0.425359</td>\n",
       "      <td>0.396471</td>\n",
       "      <td>0.157363</td>\n",
       "      <td>-0.129134</td>\n",
       "      <td>0.085789</td>\n",
       "    </tr>\n",
       "    <tr>\n",
       "      <th>Insulin</th>\n",
       "      <td>-0.073604</td>\n",
       "      <td>0.327247</td>\n",
       "      <td>-0.064466</td>\n",
       "      <td>0.425359</td>\n",
       "      <td>1.000000</td>\n",
       "      <td>0.187423</td>\n",
       "      <td>0.193062</td>\n",
       "      <td>-0.043135</td>\n",
       "      <td>0.155097</td>\n",
       "    </tr>\n",
       "    <tr>\n",
       "      <th>BMI</th>\n",
       "      <td>0.024642</td>\n",
       "      <td>0.218335</td>\n",
       "      <td>0.277966</td>\n",
       "      <td>0.396471</td>\n",
       "      <td>0.187423</td>\n",
       "      <td>1.000000</td>\n",
       "      <td>0.129843</td>\n",
       "      <td>0.030842</td>\n",
       "      <td>0.280294</td>\n",
       "    </tr>\n",
       "    <tr>\n",
       "      <th>DiabetesPedigreeFunction</th>\n",
       "      <td>-0.010638</td>\n",
       "      <td>0.126096</td>\n",
       "      <td>0.008951</td>\n",
       "      <td>0.157363</td>\n",
       "      <td>0.193062</td>\n",
       "      <td>0.129843</td>\n",
       "      <td>1.000000</td>\n",
       "      <td>0.036231</td>\n",
       "      <td>0.185248</td>\n",
       "    </tr>\n",
       "    <tr>\n",
       "      <th>Age</th>\n",
       "      <td>0.550869</td>\n",
       "      <td>0.266343</td>\n",
       "      <td>0.329594</td>\n",
       "      <td>-0.129134</td>\n",
       "      <td>-0.043135</td>\n",
       "      <td>0.030842</td>\n",
       "      <td>0.036231</td>\n",
       "      <td>1.000000</td>\n",
       "      <td>0.254027</td>\n",
       "    </tr>\n",
       "    <tr>\n",
       "      <th>Outcome</th>\n",
       "      <td>0.227676</td>\n",
       "      <td>0.486152</td>\n",
       "      <td>0.169150</td>\n",
       "      <td>0.085789</td>\n",
       "      <td>0.155097</td>\n",
       "      <td>0.280294</td>\n",
       "      <td>0.185248</td>\n",
       "      <td>0.254027</td>\n",
       "      <td>1.000000</td>\n",
       "    </tr>\n",
       "  </tbody>\n",
       "</table>\n",
       "</div>"
      ],
      "text/plain": [
       "                          Pregnancies   Glucose  BloodPressure  SkinThickness  \\\n",
       "Pregnancies                  1.000000  0.140494       0.189436      -0.082984   \n",
       "Glucose                      0.140494  1.000000       0.211263       0.056984   \n",
       "BloodPressure                0.189436  0.211263       1.000000       0.020679   \n",
       "SkinThickness               -0.082984  0.056984       0.020679       1.000000   \n",
       "Insulin                     -0.073604  0.327247      -0.064466       0.425359   \n",
       "BMI                          0.024642  0.218335       0.277966       0.396471   \n",
       "DiabetesPedigreeFunction    -0.010638  0.126096       0.008951       0.157363   \n",
       "Age                          0.550869  0.266343       0.329594      -0.129134   \n",
       "Outcome                      0.227676  0.486152       0.169150       0.085789   \n",
       "\n",
       "                           Insulin       BMI  DiabetesPedigreeFunction  \\\n",
       "Pregnancies              -0.073604  0.024642                 -0.010638   \n",
       "Glucose                   0.327247  0.218335                  0.126096   \n",
       "BloodPressure            -0.064466  0.277966                  0.008951   \n",
       "SkinThickness             0.425359  0.396471                  0.157363   \n",
       "Insulin                   1.000000  0.187423                  0.193062   \n",
       "BMI                       0.187423  1.000000                  0.129843   \n",
       "DiabetesPedigreeFunction  0.193062  0.129843                  1.000000   \n",
       "Age                      -0.043135  0.030842                  0.036231   \n",
       "Outcome                   0.155097  0.280294                  0.185248   \n",
       "\n",
       "                               Age   Outcome  \n",
       "Pregnancies               0.550869  0.227676  \n",
       "Glucose                   0.266343  0.486152  \n",
       "BloodPressure             0.329594  0.169150  \n",
       "SkinThickness            -0.129134  0.085789  \n",
       "Insulin                  -0.043135  0.155097  \n",
       "BMI                       0.030842  0.280294  \n",
       "DiabetesPedigreeFunction  0.036231  0.185248  \n",
       "Age                       1.000000  0.254027  \n",
       "Outcome                   0.254027  1.000000  "
      ]
     },
     "execution_count": 52,
     "metadata": {},
     "output_type": "execute_result"
    }
   ],
   "source": [
    "uniform_data = dataset.corr()\n",
    "uniform_data"
   ]
  },
  {
   "cell_type": "code",
   "execution_count": 53,
   "metadata": {},
   "outputs": [
    {
     "data": {
      "text/plain": [
       "<matplotlib.axes._subplots.AxesSubplot at 0x8979d10f98>"
      ]
     },
     "execution_count": 53,
     "metadata": {},
     "output_type": "execute_result"
    },
    {
     "data": {
      "image/png": "[encoded data removed]",
      "text/plain": [
       "<Figure size 432x288 with 2 Axes>"
      ]
     },
     "metadata": {
      "needs_background": "light"
     },
     "output_type": "display_data"
    }
   ],
   "source": [
    "#Graphical representation of data where the individual values contained in a matrix are represented as colors.\n",
    "sns.heatmap(uniform_data,linewidths=0.9)"
   ]
  },
  {
   "cell_type": "markdown",
   "metadata": {},
   "source": [
    "### Modelling:"
   ]
  },
  {
   "cell_type": "code",
   "execution_count": 54,
   "metadata": {},
   "outputs": [],
   "source": [
    "#Separating the feature and Labels from the Dataset.\n",
    "features = dataset.iloc[:,:8].values\n",
    "label = dataset.iloc[:,-1].values"
   ]
  },
  {
   "cell_type": "code",
   "execution_count": 55,
   "metadata": {},
   "outputs": [],
   "source": [
    "#Converting the array from 1 Dimension to 2 Dimension.\n",
    "label = label.reshape(-1,1)"
   ]
  },
  {
   "cell_type": "markdown",
   "metadata": {},
   "source": [
    "## Logistic Regression:"
   ]
  },
  {
   "cell_type": "code",
   "execution_count": 56,
   "metadata": {
    "scrolled": true
   },
   "outputs": [
    {
     "name": "stdout",
     "output_type": "stream",
     "text": [
      "Model Train Score: 0.75764192139738\n",
      "Model Test Score: 0.7651821862348178\n"
     ]
    }
   ],
   "source": [
    "#Splitting the data in training set and testing set.\n",
    "from sklearn.model_selection import train_test_split\n",
    "X_train, X_test ,Y_train , Y_test = train_test_split(features,label,test_size=0.35,random_state=3)\n",
    "from sklearn.linear_model import LogisticRegression\n",
    "model1 = LogisticRegression()\n",
    "model1.fit(X_train,Y_train)\n",
    "print('Model Train Score:',model1.score(X_train,Y_train))\n",
    "print('Model Test Score:',model1.score(X_test,Y_test))\n"
   ]
  },
  {
   "cell_type": "markdown",
   "metadata": {},
   "source": [
    "## K-Nearest Neighbours:"
   ]
  },
  {
   "cell_type": "code",
   "execution_count": 57,
   "metadata": {},
   "outputs": [
    {
     "name": "stdout",
     "output_type": "stream",
     "text": [
      "Model Train Score: 0.8427947598253275\n",
      "Model Test Score: 0.7165991902834008\n"
     ]
    }
   ],
   "source": [
    "#Splitting the data in training set and testing set.\n",
    "from sklearn.model_selection import train_test_split\n",
    "X_train, X_test ,Y_train , Y_test = train_test_split(features,label,test_size=0.35,random_state=79)\n",
    "from sklearn.neighbors import KNeighborsClassifier\n",
    "model2 = KNeighborsClassifier(n_neighbors=3)\n",
    "model2.fit(X_train,Y_train)\n",
    "print('Model Train Score:',model2.score(X_train,Y_train))\n",
    "print('Model Test Score:',model2.score(X_test,Y_test))\n"
   ]
  },
  {
   "cell_type": "markdown",
   "metadata": {},
   "source": [
    "## Support Vector Classifier:"
   ]
  },
  {
   "cell_type": "code",
   "execution_count": 58,
   "metadata": {},
   "outputs": [
    {
     "name": "stdout",
     "output_type": "stream",
     "text": [
      "Model Train Score: 1.0\n",
      "Model Test Score: 0.7044534412955465\n"
     ]
    }
   ],
   "source": [
    "#Splitting the data in training set and testing set.\n",
    "from sklearn.model_selection import train_test_split\n",
    "X_train, X_test ,Y_train , Y_test = train_test_split(features,label,test_size=0.35,random_state=36)\n",
    "from sklearn.svm import SVC\n",
    "model3 = SVC()\n",
    "model3.fit(X_train,Y_train)\n",
    "print('Model Train Score:',model3.score(X_train,Y_train))\n",
    "print('Model Test Score:',model3.score(X_test,Y_test))\n"
   ]
  },
  {
   "cell_type": "markdown",
   "metadata": {},
   "source": [
    "## Decision Tree Classifier:"
   ]
  },
  {
   "cell_type": "code",
   "execution_count": 59,
   "metadata": {},
   "outputs": [
    {
     "name": "stdout",
     "output_type": "stream",
     "text": [
      "Model Train Score: 1.0\n",
      "Model Test Score: 0.7327935222672065\n"
     ]
    }
   ],
   "source": [
    "#Splitting the data in training set and testing set.\n",
    "from sklearn.model_selection import train_test_split\n",
    "X_train, X_test ,Y_train , Y_test = train_test_split(features,label,test_size=0.35,random_state=65)\n",
    "from sklearn.tree import DecisionTreeClassifier\n",
    "model4 = DecisionTreeClassifier()\n",
    "model4.fit(X_train,Y_train)\n",
    "print('Model Train Score:',model4.score(X_train,Y_train))\n",
    "print('Model Test Score:',model4.score(X_test,Y_test))\n"
   ]
  },
  {
   "cell_type": "markdown",
   "metadata": {},
   "source": [
    "## Random Forest Classifier:"
   ]
  },
  {
   "cell_type": "code",
   "execution_count": 60,
   "metadata": {},
   "outputs": [
    {
     "name": "stdout",
     "output_type": "stream",
     "text": [
      "Model Train Score: 0.962882096069869\n",
      "Model Test Score: 0.7854251012145749\n"
     ]
    }
   ],
   "source": [
    "#Splitting the data in training set and testing set.\n",
    "from sklearn.model_selection import train_test_split\n",
    "X_train, X_test ,Y_train , Y_test = train_test_split(features,label,test_size=0.35,random_state=73)\n",
    "from sklearn.ensemble import RandomForestClassifier\n",
    "model5 = RandomForestClassifier()\n",
    "model5.fit(X_train,Y_train)\n",
    "print('Model Train Score:',model5.score(X_train,Y_train))\n",
    "print('Model Test Score:',model5.score(X_test,Y_test))\n"
   ]
  },
  {
   "cell_type": "markdown",
   "metadata": {},
   "source": [
    "## Conusion Matrix to identify missclassified data and classfication Report for Logistic regression:"
   ]
  },
  {
   "cell_type": "code",
   "execution_count": 61,
   "metadata": {},
   "outputs": [],
   "source": [
    "#Importing necessary Packages.\n",
    "from sklearn.metrics import classification_report\n",
    "from sklearn.metrics import confusion_matrix"
   ]
  },
  {
   "cell_type": "code",
   "execution_count": 62,
   "metadata": {},
   "outputs": [
    {
     "data": {
      "text/plain": [
       "array([[413,  53],\n",
       "       [116, 123]], dtype=int64)"
      ]
     },
     "execution_count": 62,
     "metadata": {},
     "output_type": "execute_result"
    }
   ],
   "source": [
    "confusion_mat = confusion_matrix(label,model1.predict(features))\n",
    "confusion_mat"
   ]
  },
  {
   "cell_type": "code",
   "execution_count": 63,
   "metadata": {},
   "outputs": [
    {
     "name": "stdout",
     "output_type": "stream",
     "text": [
      "              precision    recall  f1-score   support\n",
      "\n",
      "           0       0.78      0.89      0.83       466\n",
      "           1       0.70      0.51      0.59       239\n",
      "\n",
      "    accuracy                           0.76       705\n",
      "   macro avg       0.74      0.70      0.71       705\n",
      "weighted avg       0.75      0.76      0.75       705\n",
      "\n"
     ]
    }
   ],
   "source": [
    "print(classification_report(label,model1.predict(features)))"
   ]
  },
  {
   "cell_type": "markdown",
   "metadata": {},
   "source": [
    "## Conusion Matrix to identify missclassified data and classfication Report For K-Nearest Neighbours :"
   ]
  },
  {
   "cell_type": "code",
   "execution_count": 64,
   "metadata": {},
   "outputs": [],
   "source": [
    "#Importing necessary Packages.\n",
    "from sklearn.metrics import classification_report\n",
    "from sklearn.metrics import confusion_matrix"
   ]
  },
  {
   "cell_type": "code",
   "execution_count": 65,
   "metadata": {},
   "outputs": [
    {
     "data": {
      "text/plain": [
       "array([[408,  58],\n",
       "       [ 84, 155]], dtype=int64)"
      ]
     },
     "execution_count": 65,
     "metadata": {},
     "output_type": "execute_result"
    }
   ],
   "source": [
    "confusion_mat = confusion_matrix(label,model2.predict(features))\n",
    "confusion_mat"
   ]
  },
  {
   "cell_type": "code",
   "execution_count": 66,
   "metadata": {},
   "outputs": [
    {
     "name": "stdout",
     "output_type": "stream",
     "text": [
      "              precision    recall  f1-score   support\n",
      "\n",
      "           0       0.83      0.88      0.85       466\n",
      "           1       0.73      0.65      0.69       239\n",
      "\n",
      "    accuracy                           0.80       705\n",
      "   macro avg       0.78      0.76      0.77       705\n",
      "weighted avg       0.79      0.80      0.80       705\n",
      "\n"
     ]
    }
   ],
   "source": [
    "#Generating Classifiation Report.\n",
    "print(classification_report(label,model2.predict(features)))"
   ]
  },
  {
   "cell_type": "markdown",
   "metadata": {},
   "source": [
    "## Conusion Matrix to identify missclassified data and classfication Report for Support Vector Classifier:"
   ]
  },
  {
   "cell_type": "code",
   "execution_count": 67,
   "metadata": {},
   "outputs": [],
   "source": [
    "#Importing necessary Packages.\n",
    "from sklearn.metrics import classification_report\n",
    "from sklearn.metrics import confusion_matrix"
   ]
  },
  {
   "cell_type": "code",
   "execution_count": 68,
   "metadata": {},
   "outputs": [
    {
     "data": {
      "text/plain": [
       "array([[466,   0],\n",
       "       [ 73, 166]], dtype=int64)"
      ]
     },
     "execution_count": 68,
     "metadata": {},
     "output_type": "execute_result"
    }
   ],
   "source": [
    "confusion_mat = confusion_matrix(label,model3.predict(features))\n",
    "confusion_mat"
   ]
  },
  {
   "cell_type": "code",
   "execution_count": 69,
   "metadata": {},
   "outputs": [
    {
     "name": "stdout",
     "output_type": "stream",
     "text": [
      "              precision    recall  f1-score   support\n",
      "\n",
      "           0       0.86      1.00      0.93       466\n",
      "           1       1.00      0.69      0.82       239\n",
      "\n",
      "    accuracy                           0.90       705\n",
      "   macro avg       0.93      0.85      0.87       705\n",
      "weighted avg       0.91      0.90      0.89       705\n",
      "\n"
     ]
    }
   ],
   "source": [
    "#Generating Classifiation Report.\n",
    "print(classification_report(label,model3.predict(features)))"
   ]
  },
  {
   "cell_type": "markdown",
   "metadata": {},
   "source": [
    "## Conusion Matrix to identify missclassified data and classfication Report for Decision Tree Classifier: "
   ]
  },
  {
   "cell_type": "code",
   "execution_count": 70,
   "metadata": {},
   "outputs": [],
   "source": [
    "#Importing necessary Packages.\n",
    "from sklearn.metrics import classification_report\n",
    "from sklearn.metrics import confusion_matrix"
   ]
  },
  {
   "cell_type": "code",
   "execution_count": 71,
   "metadata": {},
   "outputs": [
    {
     "data": {
      "text/plain": [
       "array([[434,  32],\n",
       "       [ 34, 205]], dtype=int64)"
      ]
     },
     "execution_count": 71,
     "metadata": {},
     "output_type": "execute_result"
    }
   ],
   "source": [
    "confusion_mat = confusion_matrix(label,model4.predict(features))\n",
    "confusion_mat"
   ]
  },
  {
   "cell_type": "code",
   "execution_count": 72,
   "metadata": {},
   "outputs": [
    {
     "name": "stdout",
     "output_type": "stream",
     "text": [
      "              precision    recall  f1-score   support\n",
      "\n",
      "           0       0.93      0.93      0.93       466\n",
      "           1       0.86      0.86      0.86       239\n",
      "\n",
      "    accuracy                           0.91       705\n",
      "   macro avg       0.90      0.89      0.90       705\n",
      "weighted avg       0.91      0.91      0.91       705\n",
      "\n"
     ]
    }
   ],
   "source": [
    "#Generating Classifiation Report.\n",
    "print(classification_report(label,model4.predict(features)))"
   ]
  },
  {
   "cell_type": "markdown",
   "metadata": {},
   "source": [
    "## Conusion Matrix to identify missclassified data and classfication Report for Random Forest Classifier:"
   ]
  },
  {
   "cell_type": "code",
   "execution_count": 73,
   "metadata": {},
   "outputs": [],
   "source": [
    "#Importing necessary Packages.\n",
    "from sklearn.metrics import classification_report\n",
    "from sklearn.metrics import confusion_matrix"
   ]
  },
  {
   "cell_type": "code",
   "execution_count": 74,
   "metadata": {},
   "outputs": [
    {
     "data": {
      "text/plain": [
       "array([[443,  23],\n",
       "       [ 47, 192]], dtype=int64)"
      ]
     },
     "execution_count": 74,
     "metadata": {},
     "output_type": "execute_result"
    }
   ],
   "source": [
    "confusion_mat = confusion_matrix(label,model5.predict(features))\n",
    "confusion_mat"
   ]
  },
  {
   "cell_type": "code",
   "execution_count": 75,
   "metadata": {},
   "outputs": [
    {
     "name": "stdout",
     "output_type": "stream",
     "text": [
      "              precision    recall  f1-score   support\n",
      "\n",
      "           0       0.90      0.95      0.93       466\n",
      "           1       0.89      0.80      0.85       239\n",
      "\n",
      "    accuracy                           0.90       705\n",
      "   macro avg       0.90      0.88      0.89       705\n",
      "weighted avg       0.90      0.90      0.90       705\n",
      "\n"
     ]
    }
   ],
   "source": [
    "#Generating Classifiation Report.\n",
    "print(classification_report(label,model5.predict(features)))"
   ]
  },
  {
   "cell_type": "code",
   "execution_count": null,
   "metadata": {},
   "outputs": [],
   "source": []
  },
  {
   "cell_type": "code",
   "execution_count": null,
   "metadata": {},
   "outputs": [],
   "source": []
  },
  {
   "cell_type": "code",
   "execution_count": null,
   "metadata": {},
   "outputs": [],
   "source": []
  }
 ],
 "metadata": {
  "kernelspec": {
   "display_name": "Python 3",
   "language": "python",
   "name": "python3"
  },
  "language_info": {
   "codemirror_mode": {
    "name": "ipython",
    "version": 3
   },
   "file_extension": ".py",
   "mimetype": "text/x-python",
   "name": "python",
   "nbconvert_exporter": "python",
   "pygments_lexer": "ipython3",
   "version": "3.7.3"
  }
 },
 "nbformat": 4,
 "nbformat_minor": 2
}
